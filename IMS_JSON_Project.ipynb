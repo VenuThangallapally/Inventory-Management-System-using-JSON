{
  "nbformat": 4,
  "nbformat_minor": 0,
  "metadata": {
    "colab": {
      "name": "Untitled3.ipynb",
      "provenance": []
    },
    "kernelspec": {
      "name": "python3",
      "display_name": "Python 3"
    },
    "language_info": {
      "name": "python"
    }
  },
  "cells": [
    {
      "cell_type": "code",
      "metadata": {
        "colab": {
          "base_uri": "https://localhost:8080/"
        },
        "id": "BcuCDeZtIbGw",
        "outputId": "bf30837e-1958-428c-852d-185ceda74e71"
      },
      "source": [
        "import json\n",
        "\n",
        "print(\"Select Option\")\n",
        "n=int(input('1.Read Inventory \\n2.Add New Items to Inventory \\n3.Update Existing Inventory \\n4.Purchasing \\n5.Check Quantity of Existing Product in Inventory\\n'))\n",
        "if n<1 or n>5:\n",
        "    print(\"\\n*** Please Enter Valid Option ***\\n\")\n",
        "else:\n",
        "    f=open('IMS.json','r')\n",
        "    r=f.read()\n",
        "    f.close()\n",
        "    rec=json.loads(r)\n",
        "    if n == 1:\n",
        "        print(rec)\n",
        "\n",
        "    elif n == 2:\n",
        "        new_id=str(input(\"Enter Id of New Product:\"))\n",
        "        name=input(\"Enter Item Name:\")\n",
        "        mrp=int(input(\"Enter MRP:\"))\n",
        "        qty=int(input(\"Enter Quantity:\"))\n",
        "\n",
        "        rec[new_id] = {'item': name, 'MRP': mrp, 'quantity': qty}\n",
        "\n",
        "        js = json.dumps(rec)\n",
        "\n",
        "        f=open(\"IMS.json\",'w')\n",
        "        f.write(js)\n",
        "        f.close()\n",
        "\n",
        "    elif n == 3:\n",
        "        prod_id = input(\"Enter product Id: \")\n",
        "        add_qty = int(input(\"Enter quantity to be added: \"))\n",
        "\n",
        "        print(\"Product Name: \", rec[prod_id]['item'])\n",
        "        print(\"Present Quantity: \", rec[prod_id]['quantity'])\n",
        "\n",
        "        rec[prod_id]['quantity'] = rec[prod_id]['quantity'] + add_qty\n",
        "\n",
        "        print(\"Updated Quantity: \", rec[prod_id]['quantity'])\n",
        "\n",
        "        js=json.dumps(rec)\n",
        "        f=open('IMS.json','w')\n",
        "        f.write(js)\n",
        "        f.close()\n",
        "\n",
        "    elif n == 4:\n",
        "        prod_id = str(input(\"Enter Product Id: \"))\n",
        "        prod_qty = int(input(\"Enter Product quantity: \"))\n",
        "\n",
        "        if rec[prod_id]['quantity'] < prod_qty:\n",
        "            print(\"Stock is less than required...Sorry!!\")\n",
        "        else:\n",
        "\n",
        "            print(\"Product: \", rec[prod_id]['item'])\n",
        "            print(\"MRP: \",rec[prod_id]['MRP'])\n",
        "            print(\"Billing Amount: \", rec[prod_id]['MRP']* prod_qty)\n",
        "\n",
        "            rec[prod_id]['quantity'] = rec[prod_id]['quantity'] - prod_qty\n",
        "\n",
        "            js=json.dumps(rec)\n",
        "            f=open('IMS.json','w')\n",
        "            f.write(js)\n",
        "            f.close()\n",
        "\n",
        "    elif n == 5:\n",
        "        prod_id = input(\"Enter product Id: \")\n",
        "        \n",
        "        print(\"Product Name: \", rec[prod_id]['item'])\n",
        "        print(\"Total Quantity in Inventory: \", rec[prod_id]['quantity'])\n",
        "\n"
      ],
      "execution_count": 1,
      "outputs": [
        {
          "output_type": "stream",
          "name": "stdout",
          "text": [
            "Select Option\n",
            "1.Read Inventory \n",
            "2.Add New Items to Inventory \n",
            "3.Update Existing Inventory \n",
            "4.Purchasing \n",
            "5.Check Quantity of Existing Product in Inventory\n",
            "1\n",
            "{'1145001': {'item': '5-star', 'MRP': 10, 'quantity': 40}, '1145002': {'item': 'sprite', 'MRP': 70, 'quantity': 83}, '1145003': {'item': 'maaza', 'MRP': 80, 'quantity': 94}, '1145004': {'item': 'dosa mix', 'MRP': 50, 'quantity': 21}, '1145006': {'item': 'butterscotch icecream', 'MRP': 45, 'quantity': 27}, '1145007': {'item': 'red pen', 'MRP': 10, 'quantity': 51}, '1145008': {'item': 'black pen', 'MRP': 15, 'quantity': 37}, '1145009': {'item': 'blue pen', 'MRP': 30, 'quantity': 97}, '1145010': {'item': 'dairy milk', 'MRP': 20, 'quantity': 43}, '1145046': {'item': 'dettol liquid', 'MRP': 60, 'quantity': 67}, '1145039': {'item': 'plate', 'MRP': 45, 'quantity': 65}, '1104511': {'item': 'frooti', 'MRP': 55, 'quantity': 55}, '1001': {'item': 'keys', 'MRP': 56, 'quantity': 56}, '1002': {'item': 'phone', 'MRP': 5000, 'quantity': 56}, '1003': {'item': 'laptop', 'MRP': 59000, 'quantity': 58}, '1004': {'item': 'light', 'MRP': 23, 'quantity': 23}, '1005': {'item': 'blanket', 'MRP': 540, 'quantity': 23}, '1006': {'item': 'idly mix', 'MRP': 59, 'quantity': 46}, '1007': {'item': 'mouse', 'MRP': 55, 'quantity': 55}, '1008': {'item': 'earphones', 'MRP': 560, 'quantity': 48}, '1009': {'item': 'monitor', 'MRP': 5600, 'quantity': 45}, '1010': {'item': 'printer', 'MRP': 5660, 'quantity': 45}, '1011': {'item': 'charger', 'MRP': 456, 'quantity': 46}, '1012': {'item': 'screen guard', 'MRP': 49, 'quantity': 49}, '1013': {'item': 'watches', 'MRP': 500, 'quantity': 200}, '1014': {'item': 'soap', 'MRP': 45, 'quantity': 45}, '1015': {'item': 'medimix', 'MRP': 45, 'quantity': 46}, '1016': {'item': 'santoor', 'MRP': 49, 'quantity': 56}, '1017': {'item': 'rin', 'MRP': 19, 'quantity': 19}, '1018': {'item': 'wheel surf', 'MRP': 46, 'quantity': 19}, '1019': {'item': 'cables', 'MRP': 464, 'quantity': 64}, '1020': {'item': 'ice cream', 'MRP': 46, 'quantity': 64}}\n"
          ]
        }
      ]
    }
  ]
}